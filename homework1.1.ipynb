{
 "cells": [
  {
   "cell_type": "markdown",
   "id": "rubber-cemetery",
   "metadata": {
    "id": "rubber-cemetery"
   },
   "source": [
    "# Week 1 Homework"
   ]
  },
  {
   "cell_type": "markdown",
   "id": "understanding-spice",
   "metadata": {
    "id": "understanding-spice"
   },
   "source": [
    "## Source data in Excel or csv format\n",
    "\n",
    "🥦 TODO: Start collecting data for our course project. \n",
    "\n",
    "Guidelines:\n",
    "\n",
    "- Pick a topic where you have enough expertise to understand your dataset.\n",
    "- Use public data or ensure that you have permission to use the data for this course.\n",
    "- If you use data from work, make sure you obfuscate the data as needed (e.g. remove any data which could indentify the data subject).\n",
    "- Your data should contain different data types such as text, float, int, etc.\n",
    "- Your data should be large enough (at least several thousand rows of data). \n",
    "\n",
    "Examples of web sites with downloadable datasets:\n",
    "\n",
    "- https://datasetsearch.research.google.com/\n",
    "- https://github.com/openZH\n",
    "- https://www.kaggle.com/datasets\n",
    "- https://registry.opendata.aws/\n"
   ]
  },
  {
   "cell_type": "markdown",
   "id": "c235b177-6950-4dc6-bca4-7b7bdeb3d812",
   "metadata": {
    "id": "7WiboI9aO1Up"
   },
   "source": [
    "## WEEK 1 Reading\n",
    "\n",
    "🥦 Understanding data types in Python (15 mins)\n",
    "\n",
    "https://jakevdp.github.io/PythonDataScienceHandbook/02.01-understanding-data-types.html\n",
    "\n",
    "🌶️ Basics of NumPy arrays (15 mins)\n",
    "\n",
    "https://jakevdp.github.io/PythonDataScienceHandbook/02.02-the-basics-of-numpy-arrays.html"
   ]
  },
  {
   "cell_type": "markdown",
   "id": "f398f98b-67db-484f-bbfd-95536808e7dc",
   "metadata": {
    "id": "7WiboI9aO1Up"
   },
   "source": [
    "## WEEK 1 Coding homework"
   ]
  },
  {
   "cell_type": "markdown",
   "id": "059b2540-037c-4490-87c4-f5dbef539207",
   "metadata": {},
   "source": [
    "🥦 TODO 1:\n",
    "\n",
    "- add a \"Code\" cell below.\n",
    "- in this code cell, create 3 variables: name, date_of_birth, today\n",
    "- assign a value to each variable e.g. \"John\", \"01-02-1986\", \"26-10-2022\"\n",
    "- write some code that uses the variables to output:\n",
    "\n",
    "<blockquote>Hi John, you were born on 01-02-1986</blockquote>"
   ]
  },
  {
   "cell_type": "code",
   "execution_count": 23,
   "id": "136d708b-080f-4536-a155-d0973f717e5e",
   "metadata": {},
   "outputs": [
    {
     "name": "stdout",
     "output_type": "stream",
     "text": [
      "Hi John you were born on 01-02-1986\n"
     ]
    }
   ],
   "source": [
    "name = \"John\"\n",
    "date_of_birth=\"01-02-1986\"\n",
    "today = \"26-10-2022\"\n",
    "print(f\"Hi {name} you were born on {date_of_birth}\")"
   ]
  },
  {
   "cell_type": "markdown",
   "id": "e61ff0c1-4543-4f28-8176-20311bbef942",
   "metadata": {},
   "source": [
    "🌶️ TODO 2: \n",
    "\n",
    "- insert a code cell below\n",
    "- write some code that uses your variables to output:\n",
    "    \n",
    "<blockquote>Hi John, you are 36 years old</blockquote>"
   ]
  },
  {
   "cell_type": "code",
   "execution_count": 24,
   "id": "882fd81d-ddcc-4714-8435-76ed9f24e3d9",
   "metadata": {},
   "outputs": [
    {
     "name": "stdout",
     "output_type": "stream",
     "text": [
      "Hi John you are 36 years old\n"
     ]
    }
   ],
   "source": [
    "# Solution without Datetime module:\n",
    "\n",
    "date_of_birth_list = date_of_birth.split(\"-\")\n",
    "day_of_birth = int(date_of_birth_list[0])\n",
    "month_of_birth = int(date_of_birth_list[1])\n",
    "year_of_birth = int(date_of_birth_list[2])\n",
    "\n",
    "today_list = today.split(\"-\")\n",
    "day_today = int(today_list[0])\n",
    "month_today = int(today_list[1])\n",
    "year_today = int(today_list[2])\n",
    "\n",
    "year_diff = year_today - year_of_birth\n",
    "\n",
    "if month_today > month_of_birth:\n",
    "    age = year_diff\n",
    "elif month_today < month_of_birth:\n",
    "    age = year_diff-1\n",
    "elif day_today < day_of_birth:\n",
    "    age = year_diff-1\n",
    "else:\n",
    "    age = year_diff\n",
    "print(f\"Hi {name} you are {age} years old\")"
   ]
  },
  {
   "cell_type": "code",
   "execution_count": 28,
   "id": "a5a2ede7-27f3-4140-b81c-68fe14b4442d",
   "metadata": {},
   "outputs": [
    {
     "name": "stdout",
     "output_type": "stream",
     "text": [
      "Hi John you are 36 years old\n"
     ]
    }
   ],
   "source": [
    "#Solution with datetime\n",
    "\n",
    "from datetime import datetime\n",
    "\n",
    "d1,d2 = \"01-02-1986\", \"26-10-2022\"\n",
    "\n",
    "dt1= datetime.strptime(d1, '%d-%m-%Y').date()\n",
    "dt2= datetime.strptime(d2, '%d-%m-%Y').date()\n",
    "\n",
    "datetime.strptime\n",
    "\n",
    "delta = dt2-dt1\n",
    "age = int(delta.days/365)\n",
    "\n",
    "print(f\"Hi {name} you are {age} years old\")\n"
   ]
  },
  {
   "cell_type": "markdown",
   "id": "d9d36692-9187-402f-88fe-56dc72446bfe",
   "metadata": {},
   "source": [
    "🌶️ TODO 3: \n",
    "- Concatenate these 2 arrays and assign the result to a variable z\n",
    "- Then calculate the mean (average) and median values\n",
    "- Sort the array\n",
    "- Add comments to your code\n"
   ]
  },
  {
   "cell_type": "code",
   "execution_count": 1,
   "id": "ded4cf18-ccb2-4d92-be3c-01508fc88635",
   "metadata": {
    "id": "7WiboI9aO1Up"
   },
   "outputs": [],
   "source": [
    "import numpy as np\n",
    "\n",
    "x = np.array([10, 17, 13, 21, 14, 15])\n",
    "y = np.array([12, 26, 10])"
   ]
  },
  {
   "cell_type": "code",
   "execution_count": 20,
   "id": "526f3353-3796-49df-9e02-e6a4a7dd3481",
   "metadata": {},
   "outputs": [
    {
     "name": "stdout",
     "output_type": "stream",
     "text": [
      "Data sorted:  [10 10 12 13 14 15 17 21 26] \n",
      "Mean:  15.333 \n",
      "Average:  15.333 \n",
      "Median:  14.0\n"
     ]
    }
   ],
   "source": [
    "z = np.concatenate([x,y])\n",
    "\n",
    "z_mean = np.mean(z)\n",
    "z_avg = np.average(z)\n",
    "z_median = np.median(z)\n",
    "\n",
    "z = np.sort(z)\n",
    "\n",
    "print(\"Data sorted: \", z ,\"\\n\" \n",
    "    \"Mean: \", round(z_mean,3) ,\"\\n\" \n",
    "    \"Average: \", round(z_avg,3), \"\\n\"\n",
    "    \"Median: \", z_median)\n"
   ]
  },
  {
   "cell_type": "markdown",
   "id": "e6b34dae-1e87-4254-bcde-a21cefa57ab2",
   "metadata": {
    "tags": []
   },
   "source": [
    "## Solution hints"
   ]
  },
  {
   "cell_type": "code",
   "execution_count": 29,
   "id": "4b2ba719-ed89-4156-bbcd-871bf6ed9a73",
   "metadata": {},
   "outputs": [
    {
     "data": {
      "text/plain": [
       "36"
      ]
     },
     "execution_count": 29,
     "metadata": {},
     "output_type": "execute_result"
    }
   ],
   "source": [
    "from datetime import datetime\n",
    "\n",
    "d1,d2 = \"01-02-1986\", \"26-10-2022\"\n",
    "\n",
    "dt1= datetime.strptime(d1, '%d-%m-%Y').date()\n",
    "dt2= datetime.strptime(d2, '%d-%m-%Y').date()\n",
    "\n",
    "delta = dt2-dt1\n",
    "int(delta.days/365)\n"
   ]
  },
  {
   "cell_type": "code",
   "execution_count": null,
   "id": "f03e5fb7-c3ed-4a5a-9b63-bf3168d3cf5e",
   "metadata": {},
   "outputs": [],
   "source": []
  }
 ],
 "metadata": {
  "colab": {
   "name": "homework1.1.ipynb",
   "provenance": []
  },
  "kernelspec": {
   "display_name": "Python 3 (ipykernel)",
   "language": "python",
   "name": "python3"
  },
  "language_info": {
   "codemirror_mode": {
    "name": "ipython",
    "version": 3
   },
   "file_extension": ".py",
   "mimetype": "text/x-python",
   "name": "python",
   "nbconvert_exporter": "python",
   "pygments_lexer": "ipython3",
   "version": "3.9.13"
  }
 },
 "nbformat": 4,
 "nbformat_minor": 5
}
